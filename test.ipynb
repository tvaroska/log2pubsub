{
 "cells": [
  {
   "cell_type": "code",
   "execution_count": 1,
   "id": "4eb90aef-1abd-453a-a419-a249ccad19f2",
   "metadata": {},
   "outputs": [],
   "source": [
    "from google.cloud import pubsub_v1\n",
    "\n",
    "import asyncio\n",
    "import litellm\n",
    "from litellm.integrations.custom_logger import CustomLogger\n",
    "from litellm import completion, acompletion "
   ]
  },
  {
   "cell_type": "code",
   "execution_count": 2,
   "id": "03aaf61a-d757-4f7f-a427-a087f6d187b3",
   "metadata": {},
   "outputs": [],
   "source": [
    "PROJECT = 'boris001'\n",
    "TOPIC_ID = 'litellm'"
   ]
  },
  {
   "cell_type": "code",
   "execution_count": 3,
   "id": "f2b8ef62-1d13-473f-82f2-15520eb118d2",
   "metadata": {},
   "outputs": [],
   "source": [
    "import json\n",
    "\n",
    "class PubSubLogger(CustomLogger):\n",
    "    def __init__(self, topic: str, project_id = None):\n",
    "        super().__init__()\n",
    "\n",
    "        self.pubsub = pubsub_v1.PublisherClient()\n",
    "        self.topic_path = self.pubsub.topic_path(project_id, topic)\n",
    "\n",
    "        # TODO: check schema\n",
    "\n",
    "    def sent_message(self, content):\n",
    "        if isinstance(content, dict):\n",
    "            data = json.dumps(content, default=str)\n",
    "        else:\n",
    "            data = content\n",
    "        data = data.encode('utf-8')\n",
    "        # TODO: handle errors\n",
    "        print('Sending message')\n",
    "        future = self.pubsub.publish(self.topic_path, data)\n",
    "        future.result()\n",
    "\n",
    "    \n",
    "    def log_success_event(self, kwargs, response_obj, start_time, end_time): \n",
    "        self.sent_message(kwargs)\n",
    "\n",
    "    async def async_log_success_event(self, kwargs, response_obj, start_time, end_time):\n",
    "        self.sent_message(kwargs)\n",
    "\n",
    "    async def async_pre_call_hook(self, user_api_key_dict: UserAPIKeyAuth, cache: DualCache, data: dict, call_type: Literal[\n",
    "            \"completion\",\n",
    "            \"text_completion\",\n",
    "            \"embeddings\",\n",
    "            \"image_generation\",\n",
    "            \"moderation\",\n",
    "            \"audio_transcription\",\n",
    "        ]): \n",
    "        print(data)\n",
    "        print(call_type)\n",
    "        print(user_api_key_dict)\n",
    "\n",
    "        return data "
   ]
  },
  {
   "cell_type": "code",
   "execution_count": 4,
   "id": "66e1a057-365d-45f8-afa5-52959331af06",
   "metadata": {},
   "outputs": [],
   "source": [
    "customHandler = PubSubLogger(TOPIC_ID, PROJECT)\n",
    "\n",
    "litellm.callbacks = [customHandler]"
   ]
  },
  {
   "cell_type": "code",
   "execution_count": 5,
   "id": "da1829b6-5143-4fd4-a487-79754f522c9c",
   "metadata": {},
   "outputs": [
    {
     "name": "stdout",
     "output_type": "stream",
     "text": [
      "Sending message\n"
     ]
    }
   ],
   "source": [
    "response = await acompletion(\n",
    "    model = 'vertex_ai/gemini-1.5-flash-002',\n",
    "    messages=[{ \"role\": \"user\", \"content\": \"Hi 👋\"}],\n",
    ")"
   ]
  },
  {
   "cell_type": "code",
   "execution_count": 5,
   "id": "cfd65a61-eed0-4e0e-854e-88dd50723015",
   "metadata": {},
   "outputs": [],
   "source": [
    "x = customHandler.pubsub.publish(customHandler.topic_path, b'X')"
   ]
  },
  {
   "cell_type": "code",
   "execution_count": 7,
   "id": "858d40db-dd45-4e6b-8985-e7d9cd457f67",
   "metadata": {},
   "outputs": [],
   "source": [
    "o = x.result()"
   ]
  },
  {
   "cell_type": "code",
   "execution_count": 11,
   "id": "96d454d6-a52d-4915-977b-bfdf7a349f6d",
   "metadata": {},
   "outputs": [
    {
     "data": {
      "text/plain": [
       "google.cloud.pubsub_v1.publisher.futures.Future"
      ]
     },
     "execution_count": 11,
     "metadata": {},
     "output_type": "execute_result"
    }
   ],
   "source": [
    "type(x)"
   ]
  },
  {
   "cell_type": "code",
   "execution_count": null,
   "id": "b378c2ca-7312-428d-a2a9-be0f45799f39",
   "metadata": {},
   "outputs": [],
   "source": []
  }
 ],
 "metadata": {
  "kernelspec": {
   "display_name": "Python 3 (ipykernel)",
   "language": "python",
   "name": "python3"
  },
  "language_info": {
   "codemirror_mode": {
    "name": "ipython",
    "version": 3
   },
   "file_extension": ".py",
   "mimetype": "text/x-python",
   "name": "python",
   "nbconvert_exporter": "python",
   "pygments_lexer": "ipython3",
   "version": "3.10.12"
  }
 },
 "nbformat": 4,
 "nbformat_minor": 5
}
